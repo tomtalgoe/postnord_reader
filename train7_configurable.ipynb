{
 "cells": [
  {
   "cell_type": "markdown",
   "id": "8ed77c12",
   "metadata": {},
   "source": [
    "# Import Required Libraries\n",
    "Import libraries such as os, json, and Flask for handling file operations, configuration, and web routes."
   ]
  },
  {
   "cell_type": "code",
   "execution_count": null,
   "id": "5e3970a2",
   "metadata": {},
   "outputs": [],
   "source": [
    "# Import Required Libraries\n",
    "import os\n",
    "import json\n",
    "from flask import Flask, request, render_template"
   ]
  },
  {
   "cell_type": "markdown",
   "id": "80bd514a",
   "metadata": {},
   "source": [
    "# Load Configuration from `config.json`\n",
    "Read the existing configuration from a local `config.json` file. If the file does not exist, create a default configuration."
   ]
  },
  {
   "cell_type": "code",
   "execution_count": null,
   "id": "0382bea8",
   "metadata": {},
   "outputs": [],
   "source": [
    "# Load Configuration from `config.json`\n",
    "CONFIG_FILE = \"config.json\"\n",
    "\n",
    "def load_config():\n",
    "    if not os.path.exists(CONFIG_FILE):\n",
    "        # Create default configuration if file does not exist\n",
    "        default_config = {\"selected_model\": \"train7\"}\n",
    "        with open(CONFIG_FILE, \"w\") as f:\n",
    "            json.dump(default_config, f)\n",
    "        return default_config\n",
    "    else:\n",
    "        # Load existing configuration\n",
    "        with open(CONFIG_FILE, \"r\") as f:\n",
    "            return json.load(f)\n",
    "\n",
    "config = load_config()"
   ]
  },
  {
   "cell_type": "markdown",
   "id": "790b9597",
   "metadata": {},
   "source": [
    "# List Available Training Models\n",
    "Scan the `runs/detect` directory to list all available folders representing training models."
   ]
  },
  {
   "cell_type": "code",
   "execution_count": null,
   "id": "31e5fde0",
   "metadata": {},
   "outputs": [],
   "source": [
    "# List Available Training Models\n",
    "def list_training_models():\n",
    "    models_dir = \"runs/detect\"\n",
    "    if not os.path.exists(models_dir):\n",
    "        return []\n",
    "    return [folder for folder in os.listdir(models_dir) if os.path.isdir(os.path.join(models_dir, folder))]\n",
    "\n",
    "available_models = list_training_models()"
   ]
  },
  {
   "cell_type": "markdown",
   "id": "d8bcee1f",
   "metadata": {},
   "source": [
    "# Create Dropdown for Model Selection\n",
    "Implement a Flask route for the `/log` endpoint that renders an HTML page with a dropdown menu populated with the available training models."
   ]
  },
  {
   "cell_type": "code",
   "execution_count": null,
   "id": "e509eca5",
   "metadata": {},
   "outputs": [],
   "source": [
    "# Create Dropdown for Model Selection\n",
    "app = Flask(__name__)\n",
    "\n",
    "@app.route(\"/log\", methods=[\"GET\"])\n",
    "def log_route():\n",
    "    return render_template(\"log.html\", models=available_models, selected_model=config[\"selected_model\"])"
   ]
  },
  {
   "cell_type": "markdown",
   "id": "e04ea0f8",
   "metadata": {},
   "source": [
    "# Update Configuration Based on User Selection\n",
    "Handle the form submission from the dropdown to update the selected training model in the configuration."
   ]
  },
  {
   "cell_type": "code",
   "execution_count": null,
   "id": "50410d0a",
   "metadata": {},
   "outputs": [],
   "source": [
    "# Update Configuration Based on User Selection\n",
    "@app.route(\"/log\", methods=[\"POST\"])\n",
    "def update_model():\n",
    "    selected_model = request.form.get(\"model\")\n",
    "    if selected_model in available_models:\n",
    "        config[\"selected_model\"] = selected_model\n",
    "        save_config(config)\n",
    "    return render_template(\"log.html\", models=available_models, selected_model=config[\"selected_model\"])"
   ]
  },
  {
   "cell_type": "markdown",
   "id": "70210603",
   "metadata": {},
   "source": [
    "# Save Updated Configuration to `config.json`\n",
    "Write the updated configuration back to the `config.json` file to ensure persistence across server restarts."
   ]
  },
  {
   "cell_type": "code",
   "execution_count": null,
   "id": "1f02ab9c",
   "metadata": {},
   "outputs": [],
   "source": [
    "# Save Updated Configuration to `config.json`\n",
    "def save_config(config):\n",
    "    with open(CONFIG_FILE, \"w\") as f:\n",
    "        json.dump(config, f)"
   ]
  }
 ],
 "metadata": {
  "language_info": {
   "name": "python"
  }
 },
 "nbformat": 4,
 "nbformat_minor": 5
}
